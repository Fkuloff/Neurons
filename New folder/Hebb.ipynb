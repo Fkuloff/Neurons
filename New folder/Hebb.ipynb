{
 "cells": [
  {
   "cell_type": "code",
   "execution_count": 1,
   "metadata": {
    "pycharm": {
     "name": "#%%\n"
    }
   },
   "outputs": [],
   "source": [
    "import numpy as np\n",
    "import matplotlib.pyplot as plt"
   ]
  },
  {
   "cell_type": "code",
   "execution_count": 2,
   "metadata": {
    "pycharm": {
     "name": "#%%\n"
    }
   },
   "outputs": [
    {
     "data": {
      "image/png": "[encoded data removed]",
      "text/plain": [
       "<Figure size 2000x500 with 10 Axes>"
      ]
     },
     "metadata": {},
     "output_type": "display_data"
    }
   ],
   "source": [
    "digit_0 = np.array([\n",
    "    [0, 1, 1, 0],\n",
    "    [1, 0, 0, 1],\n",
    "    [1, 0, 0, 1],\n",
    "    [0, 0, 0, 0],\n",
    "    [1, 0, 0, 1],\n",
    "    [1, 0, 0, 1],\n",
    "    [0, 1, 1, 0]   \n",
    "])\n",
    "\n",
    "digit_1 = np.array([\n",
    "    [0, 0, 0, 0],\n",
    "    [0, 0, 0, 1],\n",
    "    [0, 0, 0, 1],\n",
    "    [0, 0, 0, 0],\n",
    "    [0, 0, 0, 1],\n",
    "    [0, 0, 0, 1],\n",
    "    [0, 0, 0, 0]   \n",
    "])\n",
    "\n",
    "digit_2 = np.array([\n",
    "    [0, 1, 1, 0],\n",
    "    [0, 0, 0, 1],\n",
    "    [0, 0, 0, 1],\n",
    "    [0, 1, 1, 0],\n",
    "    [1, 0, 0, 0],\n",
    "    [1, 0, 0, 0],\n",
    "    [0, 1, 1, 0]   \n",
    "])\n",
    "\n",
    "digit_3 = np.array([\n",
    "    [0, 1, 1, 0],\n",
    "    [0, 0, 0, 1],\n",
    "    [0, 0, 0, 1],\n",
    "    [0, 1, 1, 0],\n",
    "    [0, 0, 0, 1],\n",
    "    [0, 0, 0, 1],\n",
    "    [0, 1, 1, 0]   \n",
    "])\n",
    "\n",
    "digit_4 = np.array([\n",
    "    [0, 0, 0, 0],\n",
    "    [1, 0, 0, 1],\n",
    "    [1, 0, 0, 1],\n",
    "    [0, 1, 1, 0],\n",
    "    [0, 0, 0, 1],\n",
    "    [0, 0, 0, 1],\n",
    "    [0, 0, 0, 0]   \n",
    "])\n",
    "\n",
    "digit_5 = np.array([\n",
    "    [0, 1, 1, 0],\n",
    "    [1, 0, 0, 0],\n",
    "    [1, 0, 0, 0],\n",
    "    [0, 1, 1, 0],\n",
    "    [0, 0, 0, 1],\n",
    "    [0, 0, 0, 1],\n",
    "    [0, 1, 1, 0]   \n",
    "])\n",
    "\n",
    "digit_6 = np.array([\n",
    "    [0, 1, 1, 0],\n",
    "    [1, 0, 0, 0],\n",
    "    [1, 0, 0, 0],\n",
    "    [0, 1, 1, 0],\n",
    "    [1, 0, 0, 1],\n",
    "    [1, 0, 0, 1],\n",
    "    [0, 1, 1, 0]   \n",
    "])\n",
    "\n",
    "digit_7 = np.array([\n",
    "    [0, 1, 1, 0],\n",
    "    [0, 0, 0, 1],\n",
    "    [0, 0, 0, 1],\n",
    "    [0, 0, 0, 0],\n",
    "    [0, 0, 0, 1],\n",
    "    [0, 0, 0, 1],\n",
    "    [0, 0, 0, 0]   \n",
    "])\n",
    "\n",
    "digit_8 = np.array([\n",
    "    [0, 1, 1, 0],\n",
    "    [1, 0, 0, 1],\n",
    "    [1, 0, 0, 1],\n",
    "    [0, 1, 1, 0],\n",
    "    [1, 0, 0, 1],\n",
    "    [1, 0, 0, 1],\n",
    "    [0, 1, 1, 0]   \n",
    "])\n",
    "\n",
    "digit_9 = np.array([\n",
    "    [0, 1, 1, 0],\n",
    "    [1, 0, 0, 1],\n",
    "    [1, 0, 0, 1],\n",
    "    [0, 1, 1, 0],\n",
    "    [0, 0, 0, 1],\n",
    "    [0, 0, 0, 1],\n",
    "    [0, 1, 1, 0]   \n",
    "])\n",
    "\n",
    "digits = np.array([\n",
    "    digit_0,\n",
    "    digit_1,\n",
    "    digit_2,\n",
    "    digit_3,\n",
    "    digit_4,\n",
    "    digit_5,\n",
    "    digit_6,\n",
    "    digit_7,\n",
    "    digit_8,\n",
    "    digit_9\n",
    "])\n",
    "\n",
    "even = np.array([1, -1, 1, -1, 1, -1, 1, -1, 1, -1])\n",
    "\n",
    "def plot_digits(predicted = None): \n",
    "    fig, axs = plt.subplots(1, 10, figsize=(20,5))\n",
    "    for i in range(10):\n",
    "        axs[i].imshow(digits[i])\n",
    "        if predicted is not None:\n",
    "            even = 'чет' if predicted[i] > 0 else 'нечет'\n",
    "            axs[i].set_title(f'Цифра: {i}; {even}')\n",
    "        else:\n",
    "            axs[i].set_title(f'Цифра: {i}')\n",
    "    plt.show()\n",
    "\n",
    "plot_digits()"
   ]
  },
  {
   "cell_type": "code",
   "execution_count": 27,
   "metadata": {
    "pycharm": {
     "name": "#%%\n"
    }
   },
   "outputs": [],
   "source": [
    "X = np.array([\n",
    "    np.array([-1, -1]),\n",
    "    np.array([-1, 1]),\n",
    "    np.array([1, -1]),\n",
    "    np.array([1, 1])\n",
    "])\n",
    "\n",
    "Y = np.array([-1, -1, -1, 1])"
   ]
  },
  {
   "cell_type": "code",
   "execution_count": 30,
   "metadata": {
    "pycharm": {
     "name": "#%%\n"
    }
   },
   "outputs": [],
   "source": [
    "X = digits.reshape(10, 28)\n",
    "Y = even"
   ]
  },
  {
   "cell_type": "code",
   "execution_count": 20,
   "metadata": {
    "pycharm": {
     "name": "#%%\n"
    }
   },
   "outputs": [],
   "source": [
    "class NeuralNetwork:\n",
    "\n",
    "    def __init__(self, weights, threshold) -> None:\n",
    "        self.weights = weights\n",
    "        self.threshold = threshold\n",
    "\n",
    "    def predict(self, input_arr):\n",
    "        result = input_arr.T @ self.weights - self.threshold\n",
    "        return 1 if result > 0 else -1\n",
    "\n",
    "    def hebb(self, X_value, Y_value): \n",
    "        self.weights = self.weights + X_value * Y_value\n",
    "        self.threshold = self.threshold - Y_value\n",
    "\n",
    "    def train(self, train_X, train_Y):\n",
    "        accuracy_hist = []\n",
    "        step = 0\n",
    "        for idx, X_value in enumerate(train_X):\n",
    "            print(f'\\n--------- Step {step} ---------')\n",
    "            print(f'Before | Weights: {self.weights}; T: {self.threshold}')\n",
    "            Y_value = train_Y[idx]\n",
    "            self.hebb(X_value, Y_value)\n",
    "            accuracy_hist.append(self.accuracy(train_X, train_Y))\n",
    "            print(f'After | Weights: {self.weights}; T: {self.threshold}')\n",
    "            print(f'-------------------------------')\n",
    "            step += 1\n",
    "        return accuracy_hist\n",
    "\n",
    "    def accuracy(self, train_X, train_Y):\n",
    "        correct = 0\n",
    "        for idx, X_value in enumerate(train_X):\n",
    "            if self.predict(X_value) == train_Y[idx]:\n",
    "                correct += 1\n",
    "        return correct / len(train_X)\n"
   ]
  },
  {
   "cell_type": "code",
   "execution_count": 31,
   "metadata": {
    "pycharm": {
     "name": "#%%\n"
    }
   },
   "outputs": [
    {
     "name": "stdout",
     "output_type": "stream",
     "text": [
      "\n",
      "--------- Step 0 ---------\n",
      "Before | Weights: [0. 0. 0. 0. 0. 0. 0. 0. 0. 0. 0. 0. 0. 0. 0. 0. 0. 0. 0. 0. 0. 0. 0. 0.\n",
      " 0. 0. 0. 0.]; T: 0\n",
      "After | Weights: [0. 1. 1. 0. 1. 0. 0. 1. 1. 0. 0. 1. 0. 0. 0. 0. 1. 0. 0. 1. 1. 0. 0. 1.\n",
      " 0. 1. 1. 0.]; T: -1\n",
      "-------------------------------\n",
      "\n",
      "--------- Step 1 ---------\n",
      "Before | Weights: [0. 1. 1. 0. 1. 0. 0. 1. 1. 0. 0. 1. 0. 0. 0. 0. 1. 0. 0. 1. 1. 0. 0. 1.\n",
      " 0. 1. 1. 0.]; T: -1\n",
      "After | Weights: [0. 1. 1. 0. 1. 0. 0. 0. 1. 0. 0. 0. 0. 0. 0. 0. 1. 0. 0. 0. 1. 0. 0. 0.\n",
      " 0. 1. 1. 0.]; T: 0\n",
      "-------------------------------\n",
      "\n",
      "--------- Step 2 ---------\n",
      "Before | Weights: [0. 1. 1. 0. 1. 0. 0. 0. 1. 0. 0. 0. 0. 0. 0. 0. 1. 0. 0. 0. 1. 0. 0. 0.\n",
      " 0. 1. 1. 0.]; T: 0\n",
      "After | Weights: [0. 2. 2. 0. 1. 0. 0. 1. 1. 0. 0. 1. 0. 1. 1. 0. 2. 0. 0. 0. 2. 0. 0. 0.\n",
      " 0. 2. 2. 0.]; T: -1\n",
      "-------------------------------\n",
      "\n",
      "--------- Step 3 ---------\n",
      "Before | Weights: [0. 2. 2. 0. 1. 0. 0. 1. 1. 0. 0. 1. 0. 1. 1. 0. 2. 0. 0. 0. 2. 0. 0. 0.\n",
      " 0. 2. 2. 0.]; T: -1\n",
      "After | Weights: [ 0.  1.  1.  0.  1.  0.  0.  0.  1.  0.  0.  0.  0.  0.  0.  0.  2.  0.\n",
      "  0. -1.  2.  0.  0. -1.  0.  1.  1.  0.]; T: 0\n",
      "-------------------------------\n",
      "\n",
      "--------- Step 4 ---------\n",
      "Before | Weights: [ 0.  1.  1.  0.  1.  0.  0.  0.  1.  0.  0.  0.  0.  0.  0.  0.  2.  0.\n",
      "  0. -1.  2.  0.  0. -1.  0.  1.  1.  0.]; T: 0\n",
      "After | Weights: [0. 1. 1. 0. 2. 0. 0. 1. 2. 0. 0. 1. 0. 1. 1. 0. 2. 0. 0. 0. 2. 0. 0. 0.\n",
      " 0. 1. 1. 0.]; T: -1\n",
      "-------------------------------\n",
      "\n",
      "--------- Step 5 ---------\n",
      "Before | Weights: [0. 1. 1. 0. 2. 0. 0. 1. 2. 0. 0. 1. 0. 1. 1. 0. 2. 0. 0. 0. 2. 0. 0. 0.\n",
      " 0. 1. 1. 0.]; T: -1\n",
      "After | Weights: [ 0.  0.  0.  0.  1.  0.  0.  1.  1.  0.  0.  1.  0.  0.  0.  0.  2.  0.\n",
      "  0. -1.  2.  0.  0. -1.  0.  0.  0.  0.]; T: 0\n",
      "-------------------------------\n",
      "\n",
      "--------- Step 6 ---------\n",
      "Before | Weights: [ 0.  0.  0.  0.  1.  0.  0.  1.  1.  0.  0.  1.  0.  0.  0.  0.  2.  0.\n",
      "  0. -1.  2.  0.  0. -1.  0.  0.  0.  0.]; T: 0\n",
      "After | Weights: [0. 1. 1. 0. 2. 0. 0. 1. 2. 0. 0. 1. 0. 1. 1. 0. 3. 0. 0. 0. 3. 0. 0. 0.\n",
      " 0. 1. 1. 0.]; T: -1\n",
      "-------------------------------\n",
      "\n",
      "--------- Step 7 ---------\n",
      "Before | Weights: [0. 1. 1. 0. 2. 0. 0. 1. 2. 0. 0. 1. 0. 1. 1. 0. 3. 0. 0. 0. 3. 0. 0. 0.\n",
      " 0. 1. 1. 0.]; T: -1\n",
      "After | Weights: [ 0.  0.  0.  0.  2.  0.  0.  0.  2.  0.  0.  0.  0.  1.  1.  0.  3.  0.\n",
      "  0. -1.  3.  0.  0. -1.  0.  1.  1.  0.]; T: 0\n",
      "-------------------------------\n",
      "\n",
      "--------- Step 8 ---------\n",
      "Before | Weights: [ 0.  0.  0.  0.  2.  0.  0.  0.  2.  0.  0.  0.  0.  1.  1.  0.  3.  0.\n",
      "  0. -1.  3.  0.  0. -1.  0.  1.  1.  0.]; T: 0\n",
      "After | Weights: [0. 1. 1. 0. 3. 0. 0. 1. 3. 0. 0. 1. 0. 2. 2. 0. 4. 0. 0. 0. 4. 0. 0. 0.\n",
      " 0. 2. 2. 0.]; T: -1\n",
      "-------------------------------\n",
      "\n",
      "--------- Step 9 ---------\n",
      "Before | Weights: [0. 1. 1. 0. 3. 0. 0. 1. 3. 0. 0. 1. 0. 2. 2. 0. 4. 0. 0. 0. 4. 0. 0. 0.\n",
      " 0. 2. 2. 0.]; T: -1\n",
      "After | Weights: [ 0.  0.  0.  0.  2.  0.  0.  0.  2.  0.  0.  0.  0.  1.  1.  0.  4.  0.\n",
      "  0. -1.  4.  0.  0. -1.  0.  1.  1.  0.]; T: 0\n",
      "-------------------------------\n"
     ]
    }
   ],
   "source": [
    "neural_net = NeuralNetwork(np.zeros((X.shape[1],)), 0)\n",
    "neural_net.train(X, Y);"
   ]
  },
  {
   "cell_type": "code",
   "execution_count": 32,
   "metadata": {
    "pycharm": {
     "name": "#%%\n"
    }
   },
   "outputs": [
    {
     "name": "stdout",
     "output_type": "stream",
     "text": [
      "[0 1 1 0 1 0 0 1 1 0 0 1 0 0 0 0 1 0 0 1 1 0 0 1 0 1 1 0]: 1\n",
      "[0 0 0 0 0 0 0 1 0 0 0 1 0 0 0 0 0 0 0 1 0 0 0 1 0 0 0 0]: -1\n",
      "[0 1 1 0 0 0 0 1 0 0 0 1 0 1 1 0 1 0 0 0 1 0 0 0 0 1 1 0]: 1\n",
      "[0 1 1 0 0 0 0 1 0 0 0 1 0 1 1 0 0 0 0 1 0 0 0 1 0 1 1 0]: 1\n",
      "[0 0 0 0 1 0 0 1 1 0 0 1 0 1 1 0 0 0 0 1 0 0 0 1 0 0 0 0]: 1\n",
      "[0 1 1 0 1 0 0 0 1 0 0 0 0 1 1 0 0 0 0 1 0 0 0 1 0 1 1 0]: 1\n",
      "[0 1 1 0 1 0 0 0 1 0 0 0 0 1 1 0 1 0 0 1 1 0 0 1 0 1 1 0]: 1\n",
      "[0 1 1 0 0 0 0 1 0 0 0 1 0 0 0 0 0 0 0 1 0 0 0 1 0 0 0 0]: -1\n",
      "[0 1 1 0 1 0 0 1 1 0 0 1 0 1 1 0 1 0 0 1 1 0 0 1 0 1 1 0]: 1\n",
      "[0 1 1 0 1 0 0 1 1 0 0 1 0 1 1 0 0 0 0 1 0 0 0 1 0 1 1 0]: 1\n"
     ]
    }
   ],
   "source": [
    "for val in X:\n",
    "    print(f'{val}: {neural_net.predict(val)}')"
   ]
  },
  {
   "cell_type": "code",
   "execution_count": 33,
   "metadata": {
    "pycharm": {
     "name": "#%%\n"
    }
   },
   "outputs": [
    {
     "data": {
      "image/png": "[encoded data removed]",
      "text/plain": [
       "<Figure size 2000x500 with 10 Axes>"
      ]
     },
     "metadata": {},
     "output_type": "display_data"
    }
   ],
   "source": [
    "plot_digits([neural_net.predict(val) for val in X])"
   ]
  },
  {
   "cell_type": "code",
   "execution_count": null,
   "metadata": {
    "pycharm": {
     "name": "#%%\n"
    }
   },
   "outputs": [],
   "source": []
  }
 ],
 "metadata": {
  "kernelspec": {
   "display_name": "Python 3.10.6 64-bit",
   "language": "python",
   "name": "python3"
  },
  "language_info": {
   "codemirror_mode": {
    "name": "ipython",
    "version": 3
   },
   "file_extension": ".py",
   "mimetype": "text/x-python",
   "name": "python",
   "nbconvert_exporter": "python",
   "pygments_lexer": "ipython3",
   "version": "3.10.6"
  },
  "orig_nbformat": 4,
  "vscode": {
   "interpreter": {
    "hash": "d72bfd48e8da1d40ad3655b3a233313522b2b07fc0b4215dbaeaa3918017b38e"
   }
  }
 },
 "nbformat": 4,
 "nbformat_minor": 2
}