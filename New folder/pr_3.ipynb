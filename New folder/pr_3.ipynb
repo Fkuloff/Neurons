{
 "cells": [
  {
   "cell_type": "code",
   "execution_count": 15,
   "id": "e59dc776-32bf-4b70-b44e-1f0223da5653",
   "metadata": {
    "pycharm": {
     "name": "#%%\n"
    }
   },
   "outputs": [],
   "source": [
    "import numpy as np\n",
    "import pandas as pd"
   ]
  },
  {
   "cell_type": "markdown",
   "id": "2790381e-c481-4791-a3d2-3df7859b789b",
   "metadata": {
    "pycharm": {
     "name": "#%% md\n"
    }
   },
   "source": [
    "**Инициализация данных**"
   ]
  },
  {
   "cell_type": "code",
   "execution_count": 16,
   "id": "2bf5f1b9-0c74-4210-84d2-ee34b4fe37cb",
   "metadata": {
    "pycharm": {
     "name": "#%%\n"
    }
   },
   "outputs": [
    {
     "data": {
      "text/html": [
       "<div>\n",
       "<style scoped>\n",
       "    .dataframe tbody tr th:only-of-type {\n",
       "        vertical-align: middle;\n",
       "    }\n",
       "\n",
       "    .dataframe tbody tr th {\n",
       "        vertical-align: top;\n",
       "    }\n",
       "\n",
       "    .dataframe thead th {\n",
       "        text-align: right;\n",
       "    }\n",
       "</style>\n",
       "<table border=\"1\" class=\"dataframe\">\n",
       "  <thead>\n",
       "    <tr style=\"text-align: right;\">\n",
       "      <th></th>\n",
       "      <th>X1</th>\n",
       "      <th>X2</th>\n",
       "      <th>X3</th>\n",
       "      <th>Y</th>\n",
       "    </tr>\n",
       "  </thead>\n",
       "  <tbody>\n",
       "    <tr>\n",
       "      <th>0</th>\n",
       "      <td>-1</td>\n",
       "      <td>-1</td>\n",
       "      <td>-1</td>\n",
       "      <td>-1</td>\n",
       "    </tr>\n",
       "    <tr>\n",
       "      <th>1</th>\n",
       "      <td>-1</td>\n",
       "      <td>-1</td>\n",
       "      <td>1</td>\n",
       "      <td>1</td>\n",
       "    </tr>\n",
       "    <tr>\n",
       "      <th>2</th>\n",
       "      <td>-1</td>\n",
       "      <td>1</td>\n",
       "      <td>-1</td>\n",
       "      <td>-1</td>\n",
       "    </tr>\n",
       "    <tr>\n",
       "      <th>3</th>\n",
       "      <td>-1</td>\n",
       "      <td>1</td>\n",
       "      <td>1</td>\n",
       "      <td>1</td>\n",
       "    </tr>\n",
       "    <tr>\n",
       "      <th>4</th>\n",
       "      <td>1</td>\n",
       "      <td>-1</td>\n",
       "      <td>-1</td>\n",
       "      <td>-1</td>\n",
       "    </tr>\n",
       "    <tr>\n",
       "      <th>5</th>\n",
       "      <td>1</td>\n",
       "      <td>-1</td>\n",
       "      <td>1</td>\n",
       "      <td>1</td>\n",
       "    </tr>\n",
       "    <tr>\n",
       "      <th>6</th>\n",
       "      <td>1</td>\n",
       "      <td>1</td>\n",
       "      <td>-1</td>\n",
       "      <td>-1</td>\n",
       "    </tr>\n",
       "    <tr>\n",
       "      <th>7</th>\n",
       "      <td>1</td>\n",
       "      <td>1</td>\n",
       "      <td>1</td>\n",
       "      <td>1</td>\n",
       "    </tr>\n",
       "  </tbody>\n",
       "</table>\n",
       "</div>"
      ],
      "text/plain": [
       "   X1  X2  X3  Y\n",
       "0  -1  -1  -1 -1\n",
       "1  -1  -1   1  1\n",
       "2  -1   1  -1 -1\n",
       "3  -1   1   1  1\n",
       "4   1  -1  -1 -1\n",
       "5   1  -1   1  1\n",
       "6   1   1  -1 -1\n",
       "7   1   1   1  1"
      ]
     },
     "execution_count": 16,
     "metadata": {},
     "output_type": "execute_result"
    }
   ],
   "source": [
    "df = pd.read_csv('data.txt')\n",
    "\n",
    "# Вектор входные значения\n",
    "X = df.drop('Y', axis=1).to_numpy()\n",
    "\n",
    "# Вектор выходных значений\n",
    "Y = df['Y'].to_numpy()\n",
    "\n",
    "df"
   ]
  },
  {
   "cell_type": "code",
   "execution_count": 17,
   "id": "192ed770-3277-4817-9f6b-0a186c0e8dd9",
   "metadata": {
    "pycharm": {
     "name": "#%%\n"
    }
   },
   "outputs": [],
   "source": [
    "class NeuralNetwork():\n",
    "    def __init__(self, eta, n_iter):\n",
    "        self.eta = eta\n",
    "        self.n_iter = n_iter\n",
    "        self.w = np.array([[-0.2, 0.3, -0.4], [0.1, -0.3, -0.4]])\n",
    "        self.w_ = np.array([0.2, 0.3])\n",
    "        self.intercept = 0\n",
    "    \n",
    "    def f(self, x):\n",
    "        return (2 / (1 + np.exp(-x))) - 1\n",
    "    \n",
    "    def df(self, x):\n",
    "        return 0.5 * (1 + x) * (1 - x)\n",
    "    \n",
    "    def output(self, x):\n",
    "        out = np.array([self.f(val) for val in (x @ self.w.T)]) #+ self.intercept\n",
    "        y_pred = self.f(out @ self.w_)\n",
    "        return y_pred, out\n",
    "    \n",
    "    def fit(self, x, y):\n",
    "        for _ in range(self.n_iter):\n",
    "            for row, result in zip(x, y):\n",
    "                y_pred, out = self.output(row)\n",
    "                e_tmp = y_pred - result\n",
    "                local_grad = e_tmp * self.df(y_pred)\n",
    "                \n",
    "                self.w_[0] = self.w_[0] - self.eta * local_grad * out[0]\n",
    "                self.w_[1] = self.w_[1] - self.eta * local_grad * out[1]\n",
    "                \n",
    "                local_grad_ = self.w_ * local_grad * self.df(out)\n",
    "                \n",
    "                self.w[0, :] = self.w[0, :] - np.array([row]) * local_grad_[0] * self.eta \n",
    "                self.w[1, :] = self.w[1, :] - np.array([row]) * local_grad_[1] * self.eta \n",
    "                \n",
    "        return self\n",
    "    \n",
    "    def predict(self, x):\n",
    "        y_pred, out = self.output(x)\n",
    "        return y_pred"
   ]
  },
  {
   "cell_type": "markdown",
   "id": "cb8d878d-21d0-47a0-97a5-9edb18afe1ec",
   "metadata": {
    "pycharm": {
     "name": "#%% md\n"
    }
   },
   "source": [
    "**Создание экземпляра класса нейронной сети и обучение**"
   ]
  },
  {
   "cell_type": "code",
   "execution_count": 18,
   "id": "328c706f-c93e-4b71-b01e-13dc316e4823",
   "metadata": {
    "pycharm": {
     "name": "#%%\n"
    }
   },
   "outputs": [],
   "source": [
    "nn = NeuralNetwork(0.01, 10).fit(X, Y)"
   ]
  },
  {
   "cell_type": "markdown",
   "id": "0feabf22-7aa6-474c-8ddd-9f53924c7c7b",
   "metadata": {
    "pycharm": {
     "name": "#%% md\n"
    }
   },
   "source": [
    "**Обученная нейронная сеть**"
   ]
  },
  {
   "cell_type": "code",
   "execution_count": 19,
   "id": "65acdb58-e5ea-4181-a17d-c06f049f8d2c",
   "metadata": {
    "pycharm": {
     "name": "#%%\n"
    }
   },
   "outputs": [
    {
     "data": {
      "text/html": [
       "<div>\n",
       "<style scoped>\n",
       "    .dataframe tbody tr th:only-of-type {\n",
       "        vertical-align: middle;\n",
       "    }\n",
       "\n",
       "    .dataframe tbody tr th {\n",
       "        vertical-align: top;\n",
       "    }\n",
       "\n",
       "    .dataframe thead th {\n",
       "        text-align: right;\n",
       "    }\n",
       "</style>\n",
       "<table border=\"1\" class=\"dataframe\">\n",
       "  <thead>\n",
       "    <tr style=\"text-align: right;\">\n",
       "      <th></th>\n",
       "      <th>X1</th>\n",
       "      <th>X2</th>\n",
       "      <th>X3</th>\n",
       "      <th>Y</th>\n",
       "    </tr>\n",
       "  </thead>\n",
       "  <tbody>\n",
       "    <tr>\n",
       "      <th>0</th>\n",
       "      <td>-1</td>\n",
       "      <td>-1</td>\n",
       "      <td>-1</td>\n",
       "      <td>-1</td>\n",
       "    </tr>\n",
       "    <tr>\n",
       "      <th>1</th>\n",
       "      <td>-1</td>\n",
       "      <td>-1</td>\n",
       "      <td>1</td>\n",
       "      <td>1</td>\n",
       "    </tr>\n",
       "    <tr>\n",
       "      <th>2</th>\n",
       "      <td>-1</td>\n",
       "      <td>1</td>\n",
       "      <td>-1</td>\n",
       "      <td>-1</td>\n",
       "    </tr>\n",
       "    <tr>\n",
       "      <th>3</th>\n",
       "      <td>-1</td>\n",
       "      <td>1</td>\n",
       "      <td>1</td>\n",
       "      <td>1</td>\n",
       "    </tr>\n",
       "    <tr>\n",
       "      <th>4</th>\n",
       "      <td>1</td>\n",
       "      <td>-1</td>\n",
       "      <td>-1</td>\n",
       "      <td>-1</td>\n",
       "    </tr>\n",
       "    <tr>\n",
       "      <th>5</th>\n",
       "      <td>1</td>\n",
       "      <td>-1</td>\n",
       "      <td>1</td>\n",
       "      <td>1</td>\n",
       "    </tr>\n",
       "    <tr>\n",
       "      <th>6</th>\n",
       "      <td>1</td>\n",
       "      <td>1</td>\n",
       "      <td>-1</td>\n",
       "      <td>-1</td>\n",
       "    </tr>\n",
       "    <tr>\n",
       "      <th>7</th>\n",
       "      <td>1</td>\n",
       "      <td>1</td>\n",
       "      <td>1</td>\n",
       "      <td>1</td>\n",
       "    </tr>\n",
       "  </tbody>\n",
       "</table>\n",
       "</div>"
      ],
      "text/plain": [
       "   X1  X2  X3  Y\n",
       "0  -1  -1  -1 -1\n",
       "1  -1  -1   1  1\n",
       "2  -1   1  -1 -1\n",
       "3  -1   1   1  1\n",
       "4   1  -1  -1 -1\n",
       "5   1  -1   1  1\n",
       "6   1   1  -1 -1\n",
       "7   1   1   1  1"
      ]
     },
     "execution_count": 19,
     "metadata": {},
     "output_type": "execute_result"
    }
   ],
   "source": [
    "df"
   ]
  },
  {
   "cell_type": "code",
   "execution_count": 20,
   "id": "0d932657-51b9-4f67-a150-4c2eb7a0abc3",
   "metadata": {
    "pycharm": {
     "name": "#%%\n"
    }
   },
   "outputs": [
    {
     "name": "stdout",
     "output_type": "stream",
     "text": [
      "0.03841134400827606 -1\n",
      "-0.022565253210976688 1\n",
      "0.0223817016699992 -1\n",
      "-0.03620933238996882 1\n",
      "0.03620933238996882 -1\n",
      "-0.0223817016699992 1\n",
      "0.022565253210976577 -1\n",
      "-0.03841134400827606 1\n"
     ]
    }
   ],
   "source": [
    "for i in range(df.shape[0]):\n",
    "    print(nn.predict(df.iloc[i].tolist()[0:3]), df.iloc[i].to_list()[-1])"
   ]
  },
  {
   "cell_type": "code",
   "execution_count": 21,
   "id": "9db2b9f1-ba8f-4fe2-85d2-605f04ffcbd7",
   "metadata": {
    "pycharm": {
     "name": "#%%\n"
    }
   },
   "outputs": [
    {
     "data": {
      "text/plain": [
       "(array([[-0.2011106 ,  0.30199756, -0.36869655],\n",
       "        [ 0.10098219, -0.30255498, -0.3488915 ]]),\n",
       " array([0.1240977 , 0.22474804]))"
      ]
     },
     "execution_count": 21,
     "metadata": {},
     "output_type": "execute_result"
    }
   ],
   "source": [
    "nn.w, nn.w_"
   ]
  },
  {
   "cell_type": "code",
   "execution_count": null,
   "id": "cc131a65-f949-4ea5-8724-3129a09e1f35",
   "metadata": {
    "pycharm": {
     "name": "#%%\n"
    }
   },
   "outputs": [],
   "source": []
  }
 ],
 "metadata": {
  "kernelspec": {
   "display_name": "Python 3 (ipykernel)",
   "language": "python",
   "name": "python3"
  },
  "language_info": {
   "codemirror_mode": {
    "name": "ipython",
    "version": 3
   },
   "file_extension": ".py",
   "mimetype": "text/x-python",
   "name": "python",
   "nbconvert_exporter": "python",
   "pygments_lexer": "ipython3",
   "version": "3.8.5"
  }
 },
 "nbformat": 4,
 "nbformat_minor": 5
}